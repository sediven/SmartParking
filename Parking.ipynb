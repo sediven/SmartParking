{
 "cells": [
  {
   "cell_type": "code",
   "execution_count": 331,
   "metadata": {
    "collapsed": false
   },
   "outputs": [],
   "source": [
    "from datetime import datetime\n",
    "from math import ceil\n",
    "\n",
    "\n",
    "\n",
    "class Car(object):\n",
    "\n",
    "    __inTime = False\n",
    "    __owner = False\n",
    "    __carId = False\n",
    "    __outTime = False\n",
    "    \n",
    "    def __init__(self,__carId, __owner, __inTime, __outTime):\n",
    "        self.__carId = __carId\n",
    "        self.__owner = __owner\n",
    "        self.__inTime = __inTime\n",
    "        self.__outTime = __outTime\n",
    "        \n",
    "    def getTimeInside(self):\n",
    "        d1 = datetime.strptime(self.__inTime, \"%Y-%m-%d %H:%M:%S\")\n",
    "        d2 = datetime.strptime(self.__outTime,\"%Y-%m-%d %H:%M:%S\")\n",
    "        return ceil(abs((d2 - d1)).seconds/3600.0)\n",
    "    \n",
    "    def getOwner(self):\n",
    "        return self.__owner\n",
    "    \n",
    "    def getCarId(self):\n",
    "        return self.__carId\n",
    "    \n",
    "    def getPlace(self):\n",
    "        return (self.__w,self.__k)\n",
    "    \n",
    "    def parkCar(self,w,k):\n",
    "        self.__w = w\n",
    "        self.__k = k\n",
    "    \n",
    "    def takeCar(self):\n",
    "        self.__w = -1\n",
    "        self.__k = -1"
   ]
  },
  {
   "cell_type": "code",
   "execution_count": 332,
   "metadata": {
    "collapsed": false
   },
   "outputs": [
    {
     "data": {
      "text/plain": [
       "'2017-04-22 18:59:00'"
      ]
     },
     "execution_count": 332,
     "metadata": {},
     "output_type": "execute_result"
    }
   ],
   "source": [
    "datetime.now().strftime(\"%Y-%m-%d %H:%M:%S\")"
   ]
  },
  {
   "cell_type": "code",
   "execution_count": 333,
   "metadata": {
    "collapsed": true
   },
   "outputs": [],
   "source": [
    "car1= Car(1,'mama','2017-04-22 14:13:25','2017-04-22 19:15:25')"
   ]
  },
  {
   "cell_type": "code",
   "execution_count": 334,
   "metadata": {
    "collapsed": false
   },
   "outputs": [
    {
     "data": {
      "text/plain": [
       "'mama'"
      ]
     },
     "execution_count": 334,
     "metadata": {},
     "output_type": "execute_result"
    }
   ],
   "source": [
    "car1.getTimeInside()\n",
    "car1.getOwner()"
   ]
  },
  {
   "cell_type": "code",
   "execution_count": 335,
   "metadata": {
    "collapsed": false
   },
   "outputs": [],
   "source": [
    "class Space:\n",
    "    __isCarParked = False\n",
    "    __carOwner = False\n",
    "    __carId = False\n",
    "    \n",
    "    def __init__(self, spaceId):\n",
    "        '''\n",
    "        Constructor\n",
    "        '''\n",
    "        self.__isRoad = False\n",
    "        self.__isCarParked = False\n",
    "        self.__spaceId = spaceId\n",
    "        self.__carOwner = False\n",
    "        self__carId = False\n",
    "    \n",
    "    def getSpaceStatus(self):\n",
    "        return 'R' if self.__isRoad else 'O' if self.__isCarParked else \"F\"\n",
    "    \n",
    "    def makeRoad(self):\n",
    "        self.__isRoad = True\n",
    "        \n",
    "    def isRoad(self):\n",
    "        return self.__isRoad\n",
    "        \n",
    "    def parkCar(self, car):\n",
    "        '''\n",
    "        The method is to set the park-car-flag to true to execute the action of parking\n",
    "        '''\n",
    "        \n",
    "        self.__isCarParked = True\n",
    "        self.__carOwner = car.getOwner()\n",
    "        self.__carId = car.getCarId()\n",
    "    \n",
    "    def checkCarId(self,cId):\n",
    "        return self.__carId == cId\n",
    "    \n",
    "    def checkOwner(self,name):\n",
    "        return self.__carOwner == name\n",
    "    \n",
    "    def leaveCar(self):\n",
    "        '''\n",
    "        The method for cars leaving\n",
    "        '''\n",
    "        self.__isCarParked = False\n",
    "        self.__carOwner = False\n",
    "        self.__carId = False\n",
    "\n",
    "    def checkIfCanPark(self):\n",
    "        '''\n",
    "        The method is to check if the space has a car parking here\n",
    "        '''\n",
    "        return (not self.__isCarParked )and (not self.__isRoad)"
   ]
  },
  {
   "cell_type": "code",
   "execution_count": 336,
   "metadata": {
    "collapsed": false
   },
   "outputs": [],
   "source": [
    "for kolumn in range(6,25,3):\n",
    "    for wiersz in range(4,15):\n",
    "        pass\n",
    "#         print(kolumn,wiersz,licz(wiersz,kolumn))"
   ]
  },
  {
   "cell_type": "code",
   "execution_count": 337,
   "metadata": {
    "collapsed": false
   },
   "outputs": [],
   "source": [
    "def licz(wiersz,kolumn):\n",
    "    i,j=float(wiersz),float(kolumn)\n",
    "    try :\n",
    "        return ((j*i-j)*2/3) / (j*i)\n",
    "    except :\n",
    "        print i,j\n",
    "def znajdz_wymiar_parkingu(w,k):\n",
    "    wymiary=(0,0)\n",
    "    wynik=0\n",
    "    maks=0\n",
    "    for kolumn in range(3,k+1,3):\n",
    "        for wiersz in range(2,w+1):\n",
    "            wynik = licz(wiersz,kolumn)\n",
    "            maks_tmp = maks\n",
    "            maks = max(maks, wynik)\n",
    "            wymiary = (wiersz,kolumn) if maks >= maks_tmp else wymiary\n",
    "    return wymiary, licz(*wymiary)\n"
   ]
  },
  {
   "cell_type": "code",
   "execution_count": 338,
   "metadata": {
    "collapsed": false
   },
   "outputs": [
    {
     "data": {
      "text/plain": [
       "((5, 6), 0.5333333333333333)"
      ]
     },
     "execution_count": 338,
     "metadata": {},
     "output_type": "execute_result"
    }
   ],
   "source": [
    "znajdz_wymiar_parkingu(5,6)\n"
   ]
  },
  {
   "cell_type": "code",
   "execution_count": 339,
   "metadata": {
    "collapsed": false
   },
   "outputs": [],
   "source": [
    "class Parking(object):\n",
    "    \n",
    "    def __init__(self,rows,colums):\n",
    "        self.rows = rows\n",
    "        self.colums = colums\n",
    "        self.parkingPlaces = [[Space('w'+str(w)+'k'+str(k)) for k in range(colums)]for w in range(rows)]\n",
    "\n",
    "        self.buildRoades()\n",
    "        self.orderPlaces()\n",
    "    \n",
    "    def getParkingStatus(self):\n",
    "        wynik = 0\n",
    "        for i in park.orderedPlaces.values():\n",
    "            wynik+= len(i)\n",
    "        return wynik\n",
    "\n",
    "    def printMe(self):\n",
    "        s = [[str(e.getSpaceStatus()) for e in row] for row in self.parkingPlaces]\n",
    "        lens = [max(map(len, col)) for col in zip(*s)]\n",
    "        fmt = ''.join('{{:{}}}'.format(x) for x in lens)\n",
    "        table = [fmt.format(*row) for row in s]\n",
    "        print '\\n'.join(table)\n",
    "        \n",
    "    \n",
    "    def buildRoades(self):\n",
    "        for row in xrange(self.rows):\n",
    "            for col in xrange(1,self.colums,3):\n",
    "                self.parkingPlaces[row][col].makeRoad()\n",
    "        for i in self.parkingPlaces[0]:\n",
    "            i.makeRoad()\n",
    "            \n",
    "    def orderPlaces(self):\n",
    "        self.orderedPlaces={}\n",
    "        for row in xrange(self.rows):\n",
    "            for col in xrange(self.colums):\n",
    "                if self.parkingPlaces[row][col].checkIfCanPark():\n",
    "                    try:\n",
    "                        self.orderedPlaces[row+col].append((row,col))\n",
    "                    except:\n",
    "                        self.orderedPlaces[row+col]=[(row,col)]\n",
    "                        \n",
    "    def parkCar(self, car):\n",
    "            place = self.findPlace(car)\n",
    "            self.parkingPlaces[place[0]][place[1]].parkCar(car)\n",
    "            car.parkCar(*place)\n",
    "            return findRoad((0,0),place)\n",
    "        \n",
    "    def takeCar(self, car):\n",
    "        \n",
    "            row ,col = place = car.getPlace()\n",
    "            spot = self.parkingPlaces[row][col]\n",
    "            if spot.checkCarId(car.getCarId()) and spot.checkOwner(car.getOwner()):\n",
    "                spot.leaveCar()\n",
    "                return findRoad((0,0),place,wjazd = False)\n",
    "            \n",
    "    def findPlace(self,car):\n",
    "        time_inside = car.getTimeInside()\n",
    "        print time_inside\n",
    "        if time_inside >= 8:\n",
    "            place = self.findEndPlace()\n",
    "        elif time_inside >= 4:\n",
    "            place = self.findMiddlePlace()\n",
    "        else:\n",
    "            place = self.findClosePlace()\n",
    "        return place\n",
    "        \n",
    "    def findClosePlace(self):\n",
    "        for i in park.orderedPlaces.keys():\n",
    "            if not len(park.orderedPlaces[i]):\n",
    "                park.orderedPlaces.pop(i)\n",
    "            else:   \n",
    "                return park.orderedPlaces[i].pop()\n",
    "        return False   \n",
    "                \n",
    "    def findMiddlePlace(self):\n",
    "        lista = park.orderedPlaces.keys()\n",
    "        for i in lista[len(lista)/3:]:\n",
    "            if not len(park.orderedPlaces[i]):\n",
    "                park.orderedPlaces.pop(i)\n",
    "            else:   \n",
    "                return park.orderedPlaces[i].pop()\n",
    "        return self.findClosePlace()\n",
    "    \n",
    "    def findFarPlace(self):\n",
    "        lista = park.orderedPlaces.keys()\n",
    "        for i in lista[::-1]:\n",
    "            if not len(park.orderedPlaces[i]):\n",
    "                park.orderedPlaces.pop(i)\n",
    "            else:   \n",
    "                return park.orderedPlaces[i].pop()\n",
    "        return False\n",
    "    \n",
    "    def findRoad(self, begin, end, wjazd=True):\n",
    "        \"\"\"idziemy od enda (pola naszego samochodzu) znajdujemy wyjazd pkt 0,0\"\"\"\n",
    "        wierszA,kolA=begin\n",
    "        wierszB,kolB=end\n",
    "        lista=[]\n",
    "        lista.append(end)\n",
    "        kolR = kolB-1 if self.parkingPlaces[wierszB][kolB-1].isRoad() else kolB+1 if self.parkingPlaces[wierszB][kolB+1].isRoad() else False\n",
    "        for i in range(wierszB,-1,-1):\n",
    "                lista.append((i,kolR))\n",
    "        for i in range (kolR-1,-1,-1):\n",
    "            lista.append((0,i))\n",
    "            \n",
    "        if wjazd:\n",
    "            lista=lista[::-1]\n",
    "        return lista\n"
   ]
  },
  {
   "cell_type": "code",
   "execution_count": 340,
   "metadata": {
    "collapsed": false
   },
   "outputs": [],
   "source": [
    "park=Parking(10,6)"
   ]
  },
  {
   "cell_type": "code",
   "execution_count": 341,
   "metadata": {
    "collapsed": false,
    "scrolled": true
   },
   "outputs": [
    {
     "name": "stdout",
     "output_type": "stream",
     "text": [
      "RRRRRR\n",
      "FRFFRF\n",
      "FRFFRF\n",
      "FRFFRF\n",
      "FRFFRF\n",
      "FRFFRF\n",
      "FRFFRF\n",
      "FRFFRF\n",
      "FRFFRF\n",
      "FRFFRF\n"
     ]
    }
   ],
   "source": [
    "park.printMe()"
   ]
  },
  {
   "cell_type": "code",
   "execution_count": 342,
   "metadata": {
    "collapsed": false
   },
   "outputs": [
    {
     "data": {
      "text/plain": [
       "36"
      ]
     },
     "execution_count": 342,
     "metadata": {},
     "output_type": "execute_result"
    }
   ],
   "source": [
    "park.getParkingStatus()"
   ]
  },
  {
   "cell_type": "code",
   "execution_count": 343,
   "metadata": {
    "collapsed": false
   },
   "outputs": [
    {
     "name": "stdout",
     "output_type": "stream",
     "text": [
      "6.0\n"
     ]
    },
    {
     "data": {
      "text/plain": [
       "[(0, 0), (0, 1), (1, 1), (2, 1), (3, 1), (4, 1), (5, 1), (5, 0)]"
      ]
     },
     "execution_count": 343,
     "metadata": {},
     "output_type": "execute_result"
    }
   ],
   "source": [
    "park.parkCar(car1)"
   ]
  },
  {
   "cell_type": "code",
   "execution_count": 344,
   "metadata": {
    "collapsed": false
   },
   "outputs": [
    {
     "data": {
      "text/plain": [
       "(5, 0)"
      ]
     },
     "execution_count": 344,
     "metadata": {},
     "output_type": "execute_result"
    }
   ],
   "source": [
    "car1.getPlace()"
   ]
  },
  {
   "cell_type": "code",
   "execution_count": 345,
   "metadata": {
    "collapsed": false
   },
   "outputs": [
    {
     "name": "stdout",
     "output_type": "stream",
     "text": [
      "RRRRRR\n",
      "FRFFRF\n",
      "FRFFRF\n",
      "FRFFRF\n",
      "FRFFRF\n",
      "ORFFRF\n",
      "FRFFRF\n",
      "FRFFRF\n",
      "FRFFRF\n",
      "FRFFRF\n"
     ]
    }
   ],
   "source": [
    "park.printMe()"
   ]
  },
  {
   "cell_type": "code",
   "execution_count": 346,
   "metadata": {
    "collapsed": false
   },
   "outputs": [
    {
     "data": {
      "text/plain": [
       "[(5, 0), (5, 1), (4, 1), (3, 1), (2, 1), (1, 1), (0, 1), (0, 0)]"
      ]
     },
     "execution_count": 346,
     "metadata": {},
     "output_type": "execute_result"
    }
   ],
   "source": [
    "park.takeCar(car1)"
   ]
  },
  {
   "cell_type": "code",
   "execution_count": 347,
   "metadata": {
    "collapsed": false
   },
   "outputs": [
    {
     "data": {
      "text/plain": [
       "[(5, 3),\n",
       " (5, 4),\n",
       " (4, 4),\n",
       " (3, 4),\n",
       " (2, 4),\n",
       " (1, 4),\n",
       " (0, 4),\n",
       " (0, 3),\n",
       " (0, 2),\n",
       " (0, 1),\n",
       " (0, 0)]"
      ]
     },
     "execution_count": 347,
     "metadata": {},
     "output_type": "execute_result"
    }
   ],
   "source": [
    "findRoad((0,0),(5,3), wjazd=False)"
   ]
  },
  {
   "cell_type": "code",
   "execution_count": 348,
   "metadata": {
    "collapsed": false
   },
   "outputs": [
    {
     "name": "stdout",
     "output_type": "stream",
     "text": [
      "False\n",
      "RRRRRR\n",
      "FRFFRF\n",
      "FRFFRF\n",
      "FRFFRF\n",
      "FRFFRF\n",
      "FRFFRF\n",
      "FRFFRF\n",
      "FRFFRF\n",
      "FRFFRF\n",
      "FRFFRF\n"
     ]
    }
   ],
   "source": [
    "print park.parkingPlaces[1][0].isRoad()\n",
    "park.printMe()"
   ]
  },
  {
   "cell_type": "code",
   "execution_count": 436,
   "metadata": {
    "collapsed": true
   },
   "outputs": [],
   "source": [
    "dict = {}\n",
    "dict['eventId'] = {'typ': 'in', 'dataNow':'2017-04-22 14:15:25' ,'car':{'dataOut':'2017-04-22 17:13:25', 'owner':'tata','carId':'1'} }\n",
    "dict['eventId2'] = {'typ': 'out' , 'dataNow':'2017-04-22 11:13:25','car':{ 'dataIn':'2017-04-22 14:13:25' , 'owner':'tata', 'carId':'1'} }\n",
    "dict['eventId3'] = {'typ': 'out' , 'dataNow':'2017-04-22 13:13:25','car':{ 'dataIn':'2017-04-22 14:13:25' , 'owner':'tata', 'carId':'1'} }\n"
   ]
  },
  {
   "cell_type": "code",
   "execution_count": 437,
   "metadata": {
    "collapsed": true
   },
   "outputs": [],
   "source": [
    "import json\n",
    "\n",
    "class ParserInput(object):\n",
    "    \"\"\" parsujemy liste wydarzeń które dostaliśmy\n",
    "        format wydarzeń\n",
    "       \n",
    "    \"\"\"\n",
    "    def __init__(self,lines):\n",
    "        self.lines = lines\n",
    "       \n",
    "    def giveMeJson(self, dictionary):\n",
    "        return json.dumps(dictionary, sort_keys=True, separators=(',', ': '))\n",
    "    \n",
    "    def giveMeDict(self, stringi):\n",
    "        return json.loads(stringi)\n",
    "        \n",
    "    def orderByDate(self, dic):\n",
    "        return sorted(dic.items(), key=lambda x: x[1]['dataNow'])\n",
    "    \n",
    "    def manageCars(self):\n",
    "        cars = []\n",
    "        for i in self.dictLines:\n",
    "            i = i[1]\n",
    "            print i['dataNow']\n",
    "            idk= i['car']['carId']\n",
    "            owner = i['car']['owner']\n",
    "            if i['typ'] == 'in':\n",
    "                out = i['car']['dataOut']\n",
    "                inp =i['dataNow']\n",
    "            elif i['typ'] == 'out':\n",
    "                inp = i['car']['dataIn']\n",
    "                out = i['dataNow']\n",
    "            cars.append( Car(idk,owner,inp,out) )\n",
    "        return cars\n",
    "    \n",
    "    def parseMyLines(self):\n",
    "        dictLines = self.giveMeDict(self.lines)\n",
    "        self.dictLines = self.orderByDate(dictLines)\n",
    "        "
   ]
  },
  {
   "cell_type": "code",
   "execution_count": 439,
   "metadata": {
    "collapsed": false
   },
   "outputs": [],
   "source": [
    "stringi = '{\"eventId\": {\"car\": {\"carId\": \"1\",\"dataOut\": \"2017-04-22 17:13:25\",\"owner\": \"tata\"},\"dataNow\": \"2017-04-22 14:15:25\",\"typ\": \"in\"},\"eventId2\": {\"car\": {\"carId\": \"1\",\"dataIn\": \"2017-04-22 14:13:25\",\"owner\": \"tata\"},\"dataNow\": \"2017-04-22 11:13:25\",\"typ\": \"out\"},\"eventId3\": {\"car\": {\"carId\": \"1\",\"dataIn\": \"2017-04-22 14:13:25\",\"owner\": \"tata\"},\"dataNow\": \"2017-04-22 13:13:25\",\"typ\": \"out\"}}'"
   ]
  },
  {
   "cell_type": "code",
   "execution_count": 438,
   "metadata": {
    "collapsed": false
   },
   "outputs": [],
   "source": [
    "a = ParserInput(stringi)"
   ]
  },
  {
   "cell_type": "code",
   "execution_count": 440,
   "metadata": {
    "collapsed": false
   },
   "outputs": [],
   "source": [
    "a.parseMyLines()"
   ]
  },
  {
   "cell_type": "code",
   "execution_count": 441,
   "metadata": {
    "collapsed": false
   },
   "outputs": [
    {
     "name": "stdout",
     "output_type": "stream",
     "text": [
      "2017-04-22 11:13:25\n",
      "2017-04-22 13:13:25\n",
      "2017-04-22 14:15:25\n"
     ]
    },
    {
     "data": {
      "text/plain": [
       "[<__main__.Car at 0x638d9e8>,\n",
       " <__main__.Car at 0x638d978>,\n",
       " <__main__.Car at 0x638d8d0>]"
      ]
     },
     "execution_count": 441,
     "metadata": {},
     "output_type": "execute_result"
    }
   ],
   "source": [
    "a.manageCars()"
   ]
  },
  {
   "cell_type": "code",
   "execution_count": null,
   "metadata": {
    "collapsed": true
   },
   "outputs": [],
   "source": [
    "class TimeLord(object):\n",
    "    \"\"\"Zarządzamy główną pętlą czasową symulacji parkingu\"\"\"\n",
    "    "
   ]
  }
 ],
 "metadata": {
  "anaconda-cloud": {},
  "kernelspec": {
   "display_name": "Python [conda root]",
   "language": "python",
   "name": "conda-root-py"
  },
  "language_info": {
   "codemirror_mode": {
    "name": "ipython",
    "version": 2
   },
   "file_extension": ".py",
   "mimetype": "text/x-python",
   "name": "python",
   "nbconvert_exporter": "python",
   "pygments_lexer": "ipython2",
   "version": "2.7.12"
  }
 },
 "nbformat": 4,
 "nbformat_minor": 1
}
