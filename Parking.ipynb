{
 "cells": [
  {
   "cell_type": "code",
   "execution_count": 3,
   "metadata": {
    "collapsed": false
   },
   "outputs": [],
   "source": [
    "from datetime import datetime\n",
    "from math import ceil\n",
    "\n",
    "class Car(object):\n",
    "    def __init__(self,car_id, owner, in_time, out_time):\n",
    "        self.car_id = car_id\n",
    "        self.owner = owner\n",
    "        self.in_time = in_time\n",
    "        self.out_time = out_time\n",
    "        \n",
    "    def getTimeInside(self):\n",
    "        d1 = datetime.strptime(self.in_time, \"%Y-%m-%d %H:%M:%S\")\n",
    "        d2 = datetime.strptime(self.out_time,\"%Y-%m-%d %H:%M:%S\")\n",
    "        return ceil(abs((d2 - d1)).seconds/3600.0)\n",
    "    \n",
    "    def parkCar(self,w,k):\n",
    "        self.w = w\n",
    "        self.k = k\n",
    "    \n",
    "    def takeCar(self):\n",
    "        pass"
   ]
  },
  {
   "cell_type": "code",
   "execution_count": 4,
   "metadata": {
    "collapsed": false
   },
   "outputs": [
    {
     "data": {
      "text/plain": [
       "'2017-04-22 16:48:24'"
      ]
     },
     "execution_count": 4,
     "metadata": {},
     "output_type": "execute_result"
    }
   ],
   "source": [
    "datetime.now().strftime(\"%Y-%m-%d %H:%M:%S\")"
   ]
  },
  {
   "cell_type": "code",
   "execution_count": 5,
   "metadata": {
    "collapsed": true
   },
   "outputs": [],
   "source": [
    "car1= Car(1,'mama','2017-04-22 14:13:25','2017-04-22 19:15:25')"
   ]
  },
  {
   "cell_type": "code",
   "execution_count": 6,
   "metadata": {
    "collapsed": false
   },
   "outputs": [
    {
     "data": {
      "text/plain": [
       "6.0"
      ]
     },
     "execution_count": 6,
     "metadata": {},
     "output_type": "execute_result"
    }
   ],
   "source": [
    "car1.getTimeInside()"
   ]
  },
  {
   "cell_type": "code",
   "execution_count": 7,
   "metadata": {
    "collapsed": false
   },
   "outputs": [],
   "source": [
    "class Space:\n",
    "    __isCarParked = False\n",
    "\n",
    "    def __init__(self, spaceId):\n",
    "        '''\n",
    "        Constructor\n",
    "        '''\n",
    "        self.__isRoad = False\n",
    "        self.__isCarParked = False\n",
    "        self.__spaceId = spaceId\n",
    "\n",
    "    def getSpaceStatus(self):\n",
    "        return 'R' if self.__isRoad else 'O' if self.__isCarParked else \"F\"\n",
    "    \n",
    "    def makeRoad(self):\n",
    "        self.__isRoad = True\n",
    "        \n",
    "    def parkCar(self):\n",
    "        '''\n",
    "        The method is to set the park-car-flag to true to execute the action of parking\n",
    "        '''\n",
    "        \n",
    "        self.__isCarParked = True\n",
    "\n",
    "    def leaveCar(self):\n",
    "        '''\n",
    "        The method for cars leaving\n",
    "        '''\n",
    "        self.__isCarParked = False\n",
    "\n",
    "    def checkIfCanPark(self):\n",
    "        '''\n",
    "        The method is to check if the space has a car parking here\n",
    "        '''\n",
    "        return (not self.__isCarParked )and (not self.__isRoad)"
   ]
  },
  {
   "cell_type": "code",
   "execution_count": 8,
   "metadata": {
    "collapsed": false
   },
   "outputs": [],
   "source": [
    "for kolumn in range(6,25,3):\n",
    "    for wiersz in range(4,15):\n",
    "        pass\n",
    "#         print(kolumn,wiersz,licz(wiersz,kolumn))"
   ]
  },
  {
   "cell_type": "code",
   "execution_count": 9,
   "metadata": {
    "collapsed": true
   },
   "outputs": [],
   "source": [
    "def licz(wiersz,kolumn):\n",
    "    i,j=float(wiersz),float(kolumn)\n",
    "    try :\n",
    "        return ((j*i-j)*2/3) / (j*i)\n",
    "    except :\n",
    "        print i,j\n",
    "def znajdz_wymiar_parkingu(w,k):\n",
    "    wymiary=(0,0)\n",
    "    wynik=0\n",
    "    maks=0\n",
    "    for kolumn in range(3,k,3):\n",
    "        for wiersz in range(2,w):\n",
    "            wynik = licz(wiersz,kolumn)\n",
    "            maks_tmp = maks\n",
    "            maks = max(maks, wynik)\n",
    "            wymiary = (wiersz,kolumn) if maks >= maks_tmp else wymiary\n",
    "    return wymiary, licz(*wymiary)\n"
   ]
  },
  {
   "cell_type": "code",
   "execution_count": 10,
   "metadata": {
    "collapsed": false
   },
   "outputs": [
    {
     "data": {
      "text/plain": [
       "((4, 3), 0.5)"
      ]
     },
     "execution_count": 10,
     "metadata": {},
     "output_type": "execute_result"
    }
   ],
   "source": [
    "znajdz_wymiar_parkingu(5,6)\n"
   ]
  },
  {
   "cell_type": "code",
   "execution_count": 11,
   "metadata": {
    "collapsed": false
   },
   "outputs": [],
   "source": [
    "class Parking(object):\n",
    "    def __init__(self,rows,colums):\n",
    "        self.rows = rows\n",
    "        self.colums = colums\n",
    "        self.parkingPlaces = [[Space('w'+str(w)+'k'+str(k)) for k in range(colums)]for w in range(rows)]\n",
    "\n",
    "        self.buildRoades()\n",
    "        self.orderedPlaces()\n",
    "    \n",
    "    def getParkingStatus(self):\n",
    "        wynik = 0\n",
    "        for i in park.orderedPlaces.values():\n",
    "            wynik+= len(i)\n",
    "        return wynik\n",
    "\n",
    "    def printMe(self):\n",
    "        s = [[str(e.getSpaceStatus()) for e in row] for row in self.parkingPlaces]\n",
    "        lens = [max(map(len, col)) for col in zip(*s)]\n",
    "        fmt = ''.join('{{:{}}}'.format(x) for x in lens)\n",
    "        table = [fmt.format(*row) for row in s]\n",
    "        print '\\n'.join(table)\n",
    "        \n",
    "    \n",
    "    def buildRoades(self):\n",
    "        for row in xrange(self.rows):\n",
    "            for col in xrange(1,self.colums,3):\n",
    "                self.parkingPlaces[row][col].makeRoad()\n",
    "        for i in self.parkingPlaces[0]:\n",
    "            i.makeRoad()\n",
    "            \n",
    "    def orderedPlaces(self):\n",
    "        self.orderedPlaces={}\n",
    "        for row in xrange(self.rows):\n",
    "            for col in xrange(self.colums):\n",
    "                if self.parkingPlaces[row][col].checkIfCanPark():\n",
    "                    try:\n",
    "                        self.orderedPlaces[row+col].append((row,col))\n",
    "                    except:\n",
    "                        self.orderedPlaces[row+col]=[(row,col)]\n",
    "                        \n",
    "    def findPlace(self,car):\n",
    "        time_inside = car.getTimeInside()\n",
    "        print time_inside\n",
    "        if time_inside >= 8:\n",
    "            place = self.findEndPlace()\n",
    "        elif time_inside >= 4:\n",
    "            place = self.findMiddlePlace()\n",
    "        else:\n",
    "            place = self.findClosePlace()\n",
    "        self.parkingPlaces[place[0]][place[1]].parkCar()\n",
    "        car.parkCar(*place)\n",
    "        \n",
    "    def findClosePlace(self):\n",
    "        for i in park.orderedPlaces.keys():\n",
    "            if not len(park.orderedPlaces[i]):\n",
    "                park.orderedPlaces.pop(i)\n",
    "            else:   \n",
    "                return park.orderedPlaces[i].pop()\n",
    "        return False   \n",
    "                \n",
    "    def findMiddlePlace(self):\n",
    "        lista = park.orderedPlaces.keys()\n",
    "        for i in lista[len(lista)/3:]:\n",
    "            if not len(park.orderedPlaces[i]):\n",
    "                park.orderedPlaces.pop(i)\n",
    "            else:   \n",
    "                return park.orderedPlaces[i].pop()\n",
    "        return self.findClosePlace()\n",
    "    \n",
    "    def findFarPlace(self):\n",
    "        lista = park.orderedPlaces.keys()\n",
    "        for i in lista[::-1]:\n",
    "            if not len(park.orderedPlaces[i]):\n",
    "                park.orderedPlaces.pop(i)\n",
    "            else:   \n",
    "                return park.orderedPlaces[i].pop()\n",
    "        return False"
   ]
  },
  {
   "cell_type": "code",
   "execution_count": 12,
   "metadata": {
    "collapsed": false
   },
   "outputs": [],
   "source": [
    "park=Parking(10,6)"
   ]
  },
  {
   "cell_type": "code",
   "execution_count": 19,
   "metadata": {
    "collapsed": false,
    "scrolled": true
   },
   "outputs": [
    {
     "name": "stdout",
     "output_type": "stream",
     "text": [
      "RRRRRR\n",
      "FRFFRF\n",
      "FRFFRF\n",
      "FRFFRF\n",
      "FRFFRF\n",
      "ORFFRF\n",
      "FRFFRF\n",
      "FRFFRF\n",
      "FRFFRF\n",
      "FRFFRF\n"
     ]
    }
   ],
   "source": [
    "park.printMe()"
   ]
  },
  {
   "cell_type": "code",
   "execution_count": 18,
   "metadata": {
    "collapsed": false
   },
   "outputs": [
    {
     "data": {
      "text/plain": [
       "35"
      ]
     },
     "execution_count": 18,
     "metadata": {},
     "output_type": "execute_result"
    }
   ],
   "source": [
    "park.getParkingStatus()"
   ]
  },
  {
   "cell_type": "code",
   "execution_count": 15,
   "metadata": {
    "collapsed": false
   },
   "outputs": [
    {
     "name": "stdout",
     "output_type": "stream",
     "text": [
      "6.0\n"
     ]
    }
   ],
   "source": [
    "park.findPlace(car1)"
   ]
  },
  {
   "cell_type": "code",
   "execution_count": 16,
   "metadata": {
    "collapsed": false
   },
   "outputs": [
    {
     "data": {
      "text/plain": [
       "5"
      ]
     },
     "execution_count": 16,
     "metadata": {},
     "output_type": "execute_result"
    }
   ],
   "source": [
    "car1.w"
   ]
  },
  {
   "cell_type": "code",
   "execution_count": 17,
   "metadata": {
    "collapsed": false
   },
   "outputs": [
    {
     "data": {
      "text/plain": [
       "0"
      ]
     },
     "execution_count": 17,
     "metadata": {},
     "output_type": "execute_result"
    }
   ],
   "source": [
    "car1.k"
   ]
  },
  {
   "cell_type": "code",
   "execution_count": null,
   "metadata": {
    "collapsed": true
   },
   "outputs": [],
   "source": [
    "class CarManager(object):\n",
    "    def __init__(self):\n",
    "        self.orderedPlaces()"
   ]
  }
 ],
 "metadata": {
  "anaconda-cloud": {},
  "kernelspec": {
   "display_name": "Python [conda root]",
   "language": "python",
   "name": "conda-root-py"
  },
  "language_info": {
   "codemirror_mode": {
    "name": "ipython",
    "version": 2
   },
   "file_extension": ".py",
   "mimetype": "text/x-python",
   "name": "python",
   "nbconvert_exporter": "python",
   "pygments_lexer": "ipython2",
   "version": "2.7.12"
  }
 },
 "nbformat": 4,
 "nbformat_minor": 1
}
